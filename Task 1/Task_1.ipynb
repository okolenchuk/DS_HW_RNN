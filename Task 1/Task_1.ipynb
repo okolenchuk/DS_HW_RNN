{
  "nbformat": 4,
  "nbformat_minor": 0,
  "metadata": {
    "colab": {
      "provenance": [],
      "collapsed_sections": [],
      "authorship_tag": "ABX9TyPDOhZnwXS9FFwGys4SefA9",
      "include_colab_link": true
    },
    "kernelspec": {
      "name": "python3",
      "display_name": "Python 3"
    },
    "language_info": {
      "name": "python"
    }
  },
  "cells": [
    {
      "cell_type": "markdown",
      "metadata": {
        "id": "view-in-github",
        "colab_type": "text"
      },
      "source": [
        "<a href=\"https://colab.research.google.com/github/okolenchuk/DS_HW_RNN/blob/main/Task_1.ipynb\" target=\"_parent\"><img src=\"https://colab.research.google.com/assets/colab-badge.svg\" alt=\"Open In Colab\"/></a>"
      ]
    },
    {
      "cell_type": "markdown",
      "source": [
        "Обучите простую рекуррентную нейронную сеть (без GRU/LSTM, без внимания) решать задачу дешифровки шифра Цезаря:\n",
        "1. Написать алгоритм шифра Цезаря для генерации выборки (сдвиг на N каждой буквы). Например если N=2, то буква A переходит в букву C. Можно поиграться с\n",
        "языком на выбор (немецкий, русский и т.д.)\n",
        "2. Создать архитектуру рекуррентной нейронной сети.\n",
        "3. Обучить ее (вход - зашифрованная фраза, выход - дешифрованная фраза).\n",
        "4. Проверить качество модели.\n",
        "\n",
        "\n",
        "2 балла за правильно выполненное задание."
      ],
      "metadata": {
        "id": "hu5AdfZrYbWo"
      }
    },
    {
      "cell_type": "code",
      "source": [
        "from io import open\n",
        "import unicodedata\n",
        "import string\n",
        "import re\n",
        "import random\n",
        "import torch\n",
        "import torch.nn as nn\n",
        "from torch import optim\n",
        "import torch.nn.functional as F\n",
        "import warnings\n",
        "from random import shuffle\n",
        "import time\n",
        "import math\n",
        "import numpy\n",
        "\n",
        "warnings.filterwarnings(\"ignore\")\n",
        "DEVICE = torch.device(\"cuda\" if torch.cuda.is_available() else \"cpu\")\n",
        "numpy.set_printoptions(threshold=1000)"
      ],
      "metadata": {
        "id": "o2HAvpCDcJPC"
      },
      "execution_count": 38,
      "outputs": []
    },
    {
      "cell_type": "markdown",
      "source": [
        "Загружаем файл с текстом из интернета"
      ],
      "metadata": {
        "id": "lHnxCK8gW8-X"
      }
    },
    {
      "cell_type": "code",
      "execution_count": 39,
      "metadata": {
        "id": "ku2kLBLUW3XF",
        "colab": {
          "base_uri": "https://localhost:8080/"
        },
        "outputId": "303d6045-4503-431c-abbe-31d73c92db4d"
      },
      "outputs": [
        {
          "output_type": "stream",
          "name": "stdout",
          "text": [
            "--2022-09-17 22:44:29--  https://tululu.org/txt.php?id=51554\n",
            "Resolving tululu.org (tululu.org)... 104.21.82.5, 172.67.167.88, 2606:4700:3034::6815:5205, ...\n",
            "Connecting to tululu.org (tululu.org)|104.21.82.5|:443... connected.\n",
            "HTTP request sent, awaiting response... 200 OK\n",
            "Length: 667704 (652K) [text/plain]\n",
            "Saving to: ‘txt.php?id=51554.2’\n",
            "\n",
            "\rtxt.php?id=51554.2    0%[                    ]       0  --.-KB/s               \rtxt.php?id=51554.2  100%[===================>] 652.05K  4.23MB/s    in 0.2s    \n",
            "\n",
            "2022-09-17 22:44:29 (4.23 MB/s) - ‘txt.php?id=51554.2’ saved [667704/667704]\n",
            "\n"
          ]
        }
      ],
      "source": [
        "!wget https://tululu.org/txt.php?id=51554"
      ]
    },
    {
      "cell_type": "code",
      "source": [
        "file_path = '/content/txt.php?id=51554'\n",
        "string_size = 60\n",
        "batch_size = 10\n",
        "NUM_EPOCHS = 20\n",
        "LEARNING_RATE = 0.01"
      ],
      "metadata": {
        "id": "sG4a6DuppJ2s"
      },
      "execution_count": 40,
      "outputs": []
    },
    {
      "cell_type": "markdown",
      "source": [
        "Класс для кодирования текста по правилам шифта Цезаря с заданным шагом, и раскодировки для проверки на незнакомом корпусе текста."
      ],
      "metadata": {
        "id": "IY8jM_BTYAxJ"
      }
    },
    {
      "cell_type": "code",
      "source": [
        "class Cesar(object):\n",
        "    def __init__(self, step):\n",
        "        self.step = step\n",
        "        self.alphabet = ''\n",
        "        self.len_alphabet = 0\n",
        "\n",
        "    def alphabet_from_file(self, file_path):\n",
        "        with open(file_path) as file:\n",
        "            while True:\n",
        "                text = file.read(string_size)\n",
        "                if not text:\n",
        "                    break\n",
        "                for ch in text:\n",
        "                    if ch not in self.alphabet:\n",
        "                        self.alphabet += ch\n",
        "        self.alphabet = re.sub(r'[^a-zA-Z.!? ]+', r'', ''.join(sorted(self.alphabet)))\n",
        "        self.len_alphabet = len(self.alphabet)\n",
        "\n",
        "    def encode(self, text):\n",
        "        res = ''\n",
        "        for c in re.sub(r'[^a-zA-Z.!? ]+', r' ', text):\n",
        "            if c in self.alphabet:\n",
        "                res += self.alphabet[(self.alphabet.index(c) + self.step) % len(self.alphabet)]\n",
        "        return res\n",
        "\n",
        "    def decode(self, text):\n",
        "        res = ''\n",
        "        for c in text:\n",
        "            res += self.alphabet[(self.alphabet.index(c) - self.step% len(self.alphabet))]\n",
        "        return res\n",
        "\n",
        "coder = Cesar(2)\n",
        "coder.alphabet_from_file(file_path)\n",
        "alpha = coder.alphabet\n",
        "alpha"
      ],
      "metadata": {
        "id": "U71xz6-0X_gZ",
        "colab": {
          "base_uri": "https://localhost:8080/",
          "height": 35
        },
        "outputId": "20762ca4-9549-4a77-c0c2-269211bc4579"
      },
      "execution_count": 41,
      "outputs": [
        {
          "output_type": "execute_result",
          "data": {
            "text/plain": [
              "' !.?ABCDEFGHIJKLMNOPQRSTUVWXYZabcdefghijklmnopqrstuvwxyz'"
            ],
            "application/vnd.google.colaboratory.intrinsic+json": {
              "type": "string"
            }
          },
          "metadata": {},
          "execution_count": 41
        }
      ]
    },
    {
      "cell_type": "code",
      "source": [
        "a = coder.encode(sentence)\n",
        "b = coder.decode(a)\n",
        "\n",
        "\n",
        "print(sentence)\n",
        "print(a,b, sep='\\n')\n",
        "print(alpha[alpha.index(' ') + coder.step% len(alpha)])"
      ],
      "metadata": {
        "colab": {
          "base_uri": "https://localhost:8080/"
        },
        "id": "d0reVMzMmPKR",
        "outputId": "f96902d8-6534-4b73-cbc6-5238ad27814e"
      },
      "execution_count": 42,
      "outputs": [
        {
          "output_type": "stream",
          "name": "stdout",
          "text": [
            "Jupyter Notebook\n",
            "Jupyter notebook, formerly known as the IPython notebook, is a flexible tool that helps you create readable analyses, as you can keep code, images, comments, formulae and plots together. In this post, we’ve collected some of the top Jupyter notebook tips to quickly turn you into a Jupyter power user!\n",
            "\n",
            "(This post is based on a post that originally appeared on Alex Rogozhnikov’s blog, ‘Brilliantly Wrong’. We have expanded the post and will continue to do so over time — if you have a suggestion please let us know. Thanks to Alex for graciously letting us republish his work here.)\n",
            "\n",
            "Jupyter is quite extensible, supports many programming languages and is easily hosted on your computer or on almost any server — you only need to have ssh or http access. Best of all, it’s completely free. Now let’s dive in to our list of 28 (and counting!) Jupyter notebook tips!\n",
            "Lwr vgt.Pqvgdqqm.Lwr vgt.pqvgdqqm..hqtogtn .mpqyp.cu.vjg.KR vjqp.pqvgdqqm..ku.c.hngzkdng.vqqn.vjcv.jgnru. qw.etgcvg.tgcfcdng.cpcn ugu..cu. qw.ecp.mggr.eqfg..kocigu..eqoogpvu..hqtowncg.cpf.rnqvu.vqigvjgtA.Kp.vjku.rquv..yg.xg.eqnngevgf.uqog.qh.vjg.vqr.Lwr vgt.pqvgdqqm.vkru.vq.swkemn .vwtp. qw.kpvq.c.Lwr vgt.rqygt.wugt?.Vjku.rquv.ku.dcugf.qp.c.rquv.vjcv.qtkikpcnn .crrgctgf.qp.Cngz.Tqiq!jpkmqx.u.dnqi...Dtknnkcpvn .Ytqpi.A.Yg.jcxg.gzrcpfgf.vjg.rquv.cpf.yknn.eqpvkpwg.vq.fq.uq.qxgt.vkog...kh. qw.jcxg.c.uwiiguvkqp.rngcug.ngv.wu.mpqyA.Vjcpmu.vq.Cngz.hqt.itcekqwun .ngvvkpi.wu.tgrwdnkuj.jku.yqtm.jgtgA.Lwr vgt.ku.swkvg.gzvgpukdng..uwrrqtvu.ocp .rtqitcookpi.ncpiwcigu.cpf.ku.gcukn .jquvgf.qp. qwt.eqorwvgt.qt.qp.cnoquv.cp .ugtxgt... qw.qpn .pggf.vq.jcxg.uuj.qt.jvvr.ceeguuA.Dguv.qh.cnn..kv.u.eqorngvgn .htggA.Pqy.ngv.u.fkxg.kp.vq.qwt.nkuv.qh....cpf.eqwpvkpi?..Lwr vgt.pqvgdqqm.vkru?\n",
            "Jupyter Notebook Jupyter notebook  formerly known as the IPython notebook  is a flexible tool that helps you create readable analyses  as you can keep code  images  comments  formulae and plots together. In this post  we ve collected some of the top Jupyter notebook tips to quickly turn you into a Jupyter power user! This post is based on a post that originally appeared on Alex Rogozhnikov s blog   Brilliantly Wrong . We have expanded the post and will continue to do so over time   if you have a suggestion please let us know. Thanks to Alex for graciously letting us republish his work here. Jupyter is quite extensible  supports many programming languages and is easily hosted on your computer or on almost any server   you only need to have ssh or http access. Best of all  it s completely free. Now let s dive in to our list of    and counting!  Jupyter notebook tips!\n",
            ".\n"
          ]
        }
      ]
    },
    {
      "cell_type": "code",
      "source": [
        "def make_dataset(file_path, step):\n",
        "  text_array = []\n",
        "  with open(file_path) as file:\n",
        "    while True:\n",
        "      text = file.read(string_size)\n",
        "      if not text:\n",
        "        break\n",
        "      text_array.append(re.sub(r'[^a-zA-Z.!? ]', r' ', text))\n",
        "  del text_array[-1]  \n",
        "  y_train = torch.tensor([[alpha.find(y) for y in lines] for lines in text_array[:len(text_array)//5]])\n",
        "  x_train = torch.tensor([[alpha.find(x) for x in coder.encode(lines)] for lines in text_array[:len(text_array)//5]])\n",
        "\n",
        "  y_test = torch.tensor([[alpha.find(y) for y in lines] for lines in text_array[len(text_array)//5:]])\n",
        "  x_test = torch.tensor([[alpha.find(x) for x in coder.encode(lines)] for lines in text_array[len(text_array)//5:]])\n",
        "\n",
        "  return x_train, y_train, x_test, y_test"
      ],
      "metadata": {
        "id": "qKUqXFMstiQe"
      },
      "execution_count": 71,
      "outputs": []
    },
    {
      "cell_type": "code",
      "source": [
        "x_train, y_train, x_test, y_test = make_dataset(file_path, string_size)"
      ],
      "metadata": {
        "id": "qC_PKMetP4LZ"
      },
      "execution_count": 72,
      "outputs": []
    },
    {
      "cell_type": "code",
      "source": [
        "class MyDataset(torch.utils.data.Dataset):\n",
        "\n",
        "    def __init__(self, x, y):\n",
        "        super().__init__()\n",
        "        self._len = len(x)\n",
        "        self.y = y.to(DEVICE)\n",
        "        self.x = x.to(DEVICE)\n",
        "    \n",
        "    def __len__(self):\n",
        "        return self._len\n",
        "\n",
        "    def __getitem__(self, idx):\n",
        "        return self.x[idx], self.y[idx]"
      ],
      "metadata": {
        "id": "uthtmZrubcxT"
      },
      "execution_count": 73,
      "outputs": []
    },
    {
      "cell_type": "code",
      "source": [
        "train_ds = torch.utils.data.DataLoader(MyDataset(x_train, y_train), \n",
        "                                       batch_size=batch_size, \n",
        "                                       shuffle=True)\n",
        "test_ds = torch.utils.data.DataLoader(MyDataset(x_test, y_test), \n",
        "                                       batch_size=batch_size, \n",
        "                                       shuffle=True)"
      ],
      "metadata": {
        "id": "wHLltvFyRPbn"
      },
      "execution_count": 74,
      "outputs": []
    },
    {
      "cell_type": "code",
      "source": [
        "class RNNModel(torch.nn.Module):\n",
        "\n",
        "    def __init__(self):\n",
        "        super().__init__()\n",
        "        self.embed = torch.nn.Embedding(60, 32)\n",
        "        self.rnn = torch.nn.RNN(32, 128, batch_first=True)\n",
        "        self.linear = torch.nn.Linear(128, len(alpha))\n",
        "\n",
        "    def forward(self, sentence, state=None):\n",
        "        embed = self.embed(sentence)\n",
        "        o, h = self.rnn(embed)\n",
        "        return self.linear(o)"
      ],
      "metadata": {
        "id": "vVbEqG9Ntuli"
      },
      "execution_count": 118,
      "outputs": []
    },
    {
      "cell_type": "code",
      "source": [
        "model = RNNModel().to(DEVICE)\n",
        "loss = torch.nn.CrossEntropyLoss().to(DEVICE)\n",
        "optimizer = torch.optim.SGD(model.parameters(), lr=LEARNING_RATE)"
      ],
      "metadata": {
        "id": "jZCqaNPykT7Q"
      },
      "execution_count": 119,
      "outputs": []
    },
    {
      "cell_type": "code",
      "source": [
        "for epoch in range(NUM_EPOCHS):\n",
        "    train_loss, train_acc, iter_num = .0, .0, .0\n",
        "    start_epoch_time = time.time()\n",
        "    model.train()\n",
        "    for x_in, y_in in train_ds:\n",
        "        x_in = x_in.to(DEVICE)\n",
        "        y_in = y_in.view(1, -1).squeeze().to(DEVICE)\n",
        "        optimizer.zero_grad()\n",
        "        out = model.forward(x_in).view(-1, len(alpha))\n",
        "        l = loss(out, y_in)\n",
        "        train_loss += l.item()\n",
        "        batch_acc = (out.argmax(dim=1) == y_in)\n",
        "        train_acc += batch_acc.sum().item() / batch_acc.shape[0]\n",
        "        l.backward()\n",
        "        optimizer.step()\n",
        "        iter_num += 1\n",
        "    print(\n",
        "        f\"Epoch: {epoch}, loss: {train_loss:.4f}, acc: \"\n",
        "        f\"{train_acc / iter_num:.4f}\",\n",
        "        end=\" | \"\n",
        "    )\n",
        "    test_loss, test_acc, iter_num = .0, .0, .0\n",
        "    model.eval()\n",
        "    for x_in, y_in in test_ds:\n",
        "        x_in = x_in.to(DEVICE)\n",
        "        y_in = y_in.view(1, -1).squeeze()\n",
        "        out = model.forward(x_in).view(-1, len(alpha)).to(DEVICE)\n",
        "        l = loss(out, y_in)\n",
        "        test_loss += l.item()\n",
        "        batch_acc = (out.argmax(dim=1) == y_in)\n",
        "        test_acc += batch_acc.sum().item() / batch_acc.shape[0]\n",
        "        iter_num += 1\n",
        "    print(\n",
        "        f\"test loss: {test_loss:.4f}, test acc: {test_acc / iter_num:.4f} | \"\n",
        "        f\"{time.time() - start_epoch_time:.2f} sec.\"\n",
        "    )"
      ],
      "metadata": {
        "colab": {
          "base_uri": "https://localhost:8080/"
        },
        "id": "nt7V1NoTt6-L",
        "outputId": "4cf08507-31c5-41cd-aa26-cc7398784f60"
      },
      "execution_count": 120,
      "outputs": [
        {
          "output_type": "stream",
          "name": "stdout",
          "text": [
            "Epoch: 0, loss: 565.0888, acc: 0.6169 | test loss: 1475.6973, test acc: 0.7613 | 6.01 sec.\n",
            "Epoch: 1, loss: 275.8578, acc: 0.8062 | test loss: 818.9610, test acc: 0.8682 | 6.06 sec.\n",
            "Epoch: 2, loss: 165.7900, acc: 0.9142 | test loss: 533.7789, test acc: 0.9401 | 5.97 sec.\n",
            "Epoch: 3, loss: 112.5957, acc: 0.9493 | test loss: 379.8665, test acc: 0.9559 | 5.89 sec.\n",
            "Epoch: 4, loss: 82.4287, acc: 0.9637 | test loss: 289.4384, test acc: 0.9675 | 5.86 sec.\n",
            "Epoch: 5, loss: 64.2933, acc: 0.9699 | test loss: 233.6759, test acc: 0.9690 | 6.00 sec.\n",
            "Epoch: 6, loss: 52.7821, acc: 0.9710 | test loss: 197.0739, test acc: 0.9700 | 6.72 sec.\n",
            "Epoch: 7, loss: 45.0216, acc: 0.9726 | test loss: 171.5808, test acc: 0.9717 | 5.91 sec.\n",
            "Epoch: 8, loss: 39.4975, acc: 0.9752 | test loss: 152.9724, test acc: 0.9756 | 5.90 sec.\n",
            "Epoch: 9, loss: 35.3955, acc: 0.9786 | test loss: 138.8154, test acc: 0.9779 | 5.84 sec.\n",
            "Epoch: 10, loss: 32.2291, acc: 0.9792 | test loss: 127.6863, test acc: 0.9779 | 5.91 sec.\n",
            "Epoch: 11, loss: 29.7130, acc: 0.9792 | test loss: 118.6826, test acc: 0.9779 | 6.04 sec.\n",
            "Epoch: 12, loss: 27.6625, acc: 0.9792 | test loss: 111.2317, test acc: 0.9779 | 6.32 sec.\n",
            "Epoch: 13, loss: 25.9448, acc: 0.9795 | test loss: 104.9332, test acc: 0.9787 | 6.34 sec.\n",
            "Epoch: 14, loss: 24.4813, acc: 0.9800 | test loss: 99.5137, test acc: 0.9791 | 5.89 sec.\n",
            "Epoch: 15, loss: 23.2174, acc: 0.9809 | test loss: 94.7659, test acc: 0.9806 | 5.88 sec.\n",
            "Epoch: 16, loss: 22.0915, acc: 0.9813 | test loss: 90.5560, test acc: 0.9815 | 5.87 sec.\n",
            "Epoch: 17, loss: 21.0989, acc: 0.9826 | test loss: 86.7713, test acc: 0.9824 | 5.95 sec.\n",
            "Epoch: 18, loss: 20.2029, acc: 0.9832 | test loss: 83.3330, test acc: 0.9824 | 5.94 sec.\n",
            "Epoch: 19, loss: 19.3747, acc: 0.9832 | test loss: 80.1892, test acc: 0.9824 | 6.56 sec.\n"
          ]
        }
      ]
    },
    {
      "cell_type": "code",
      "source": [
        "sentence = \"\"\"Jupyter Notebook\n",
        "Jupyter notebook, formerly known as the IPython notebook, is a flexible tool that helps you create readable analyses, as you can keep code, images, comments, formulae and plots together. In this post, we’ve collected some of the top Jupyter notebook tips to quickly turn you into a Jupyter power user!\n",
        "\n",
        "(This post is based on a post that originally appeared on Alex Rogozhnikov’s blog, ‘Brilliantly Wrong’. We have expanded the post and will continue to do so over time — if you have a suggestion please let us know. Thanks to Alex for graciously letting us republish his work here.)\n",
        "\n",
        "Jupyter is quite extensible, supports many programming languages and is easily hosted on your computer or on almost any server — you only need to have ssh or http access. Best of all, it’s completely free. Now let’s dive in to our list of 28 (and counting!) Jupyter notebook tips!\"\"\"\n",
        "encrypted_sentence = coder.encode(sentence)\n",
        "encrypted_sentence_idx = [alpha.find(i) for i in encrypted_sentence]\n",
        "result = model(torch.tensor([encrypted_sentence_idx]).to(DEVICE)).argmax(dim=2)\n",
        "deencrypted_sentence = \"\".join([alpha[i.item()] for i in result.flatten()])\n",
        "print(f\"Encrypted sentence is : {encrypted_sentence}\")\n",
        "print(\"-\" * 20)\n",
        "print(deencrypted_sentence)\n",
        "print(coder.decode(encrypted_sentence))"
      ],
      "metadata": {
        "colab": {
          "base_uri": "https://localhost:8080/"
        },
        "id": "4uQLpQj7uHzF",
        "outputId": "09011511-93e9-4612-a922-053fe7058aa8"
      },
      "execution_count": 121,
      "outputs": [
        {
          "output_type": "stream",
          "name": "stdout",
          "text": [
            "Encrypted sentence is : Lwr vgt.Pqvgdqqm.Lwr vgt.pqvgdqqm..hqtogtn .mpqyp.cu.vjg.KR vjqp.pqvgdqqm..ku.c.hngzkdng.vqqn.vjcv.jgnru. qw.etgcvg.tgcfcdng.cpcn ugu..cu. qw.ecp.mggr.eqfg..kocigu..eqoogpvu..hqtowncg.cpf.rnqvu.vqigvjgtA.Kp.vjku.rquv..yg.xg.eqnngevgf.uqog.qh.vjg.vqr.Lwr vgt.pqvgdqqm.vkru.vq.swkemn .vwtp. qw.kpvq.c.Lwr vgt.rqygt.wugt?.Vjku.rquv.ku.dcugf.qp.c.rquv.vjcv.qtkikpcnn .crrgctgf.qp.Cngz.Tqiq!jpkmqx.u.dnqi...Dtknnkcpvn .Ytqpi.A.Yg.jcxg.gzrcpfgf.vjg.rquv.cpf.yknn.eqpvkpwg.vq.fq.uq.qxgt.vkog...kh. qw.jcxg.c.uwiiguvkqp.rngcug.ngv.wu.mpqyA.Vjcpmu.vq.Cngz.hqt.itcekqwun .ngvvkpi.wu.tgrwdnkuj.jku.yqtm.jgtgA.Lwr vgt.ku.swkvg.gzvgpukdng..uwrrqtvu.ocp .rtqitcookpi.ncpiwcigu.cpf.ku.gcukn .jquvgf.qp. qwt.eqorwvgt.qt.qp.cnoquv.cp .ugtxgt... qw.qpn .pggf.vq.jcxg.uuj.qt.jvvr.ceeguuA.Dguv.qh.cnn..kv.u.eqorngvgn .htggA.Pqy.ngv.u.fkxg.kp.vq.qwt.nkuv.qh....cpf.eqwpvkpi?..Lwr vgt.pqvgdqqm.vkru?\n",
            "--------------------\n",
            " upyter ootebook  upyter notebook  formerly known as the Itython notebook  is a flenible tool that helps you create readable analyses  as you can keep code  images  comments  formulae and plots together. In this post  we ve collected some of the top  upyter notebook tips to puickly turn you into a  upyter power usern This post is based on a post that originally appeared on plen togonhnikov s blog   brilliantly srong . se have enpanded the post and will continue to do so over time   if you have a suggestion please let us know. Thanks to plen for graciously letting us republish his work here.  upyter is puite entensible  supports many programming languages and is easily hosted on your computer or on almost any server   you only need to have ssh or http access. best of all  it s completely free. oow let s dive in to our list of    and countingn   upyter notebook tipsk\n",
            "Jupyter Notebook Jupyter notebook  formerly known as the IPython notebook  is a flexible tool that helps you create readable analyses  as you can keep code  images  comments  formulae and plots together. In this post  we ve collected some of the top Jupyter notebook tips to quickly turn you into a Jupyter power user! This post is based on a post that originally appeared on Alex Rogozhnikov s blog   Brilliantly Wrong . We have expanded the post and will continue to do so over time   if you have a suggestion please let us know. Thanks to Alex for graciously letting us republish his work here. Jupyter is quite extensible  supports many programming languages and is easily hosted on your computer or on almost any server   you only need to have ssh or http access. Best of all  it s completely free. Now let s dive in to our list of    and counting!  Jupyter notebook tips!\n"
          ]
        }
      ]
    }
  ]
}