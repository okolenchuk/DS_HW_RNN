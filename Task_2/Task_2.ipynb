{
  "nbformat": 4,
  "nbformat_minor": 0,
  "metadata": {
    "colab": {
      "provenance": []
    },
    "kernelspec": {
      "name": "python3",
      "display_name": "Python 3"
    },
    "language_info": {
      "name": "python"
    },
    "accelerator": "GPU"
  },
  "cells": [
    {
      "cell_type": "markdown",
      "source": [
        "Сгенерировать последовательности, которые состоят из цифр (от 0 до 9) и задаются следующим образом:\n",
        "\n",
        "x - последовательность цифр\n",
        "\n",
        "    y1 = x1\n",
        "\n",
        "    yi = xi + x1\n",
        "\n",
        "Если yi >= 10 то \n",
        "\n",
        "    yi = yi - 10\n",
        "\n",
        "Научить модель рекуррентной нейронной сети предсказывать yi по xi \n",
        "Использовать: RNN, LSTM, GRU\n",
        "\n",
        "6 баллов за правильно выполненное задание.\n"
      ],
      "metadata": {
        "id": "TA_BbnnDK2Rf"
      }
    },
    {
      "cell_type": "code",
      "execution_count": 1,
      "metadata": {
        "id": "HAmxHOitKyAd"
      },
      "outputs": [],
      "source": [
        "import torch\n",
        "from torch.utils.data import *\n",
        "import time"
      ]
    },
    {
      "cell_type": "code",
      "source": [
        "DEVICE = torch.device(\"cuda\" if torch.cuda.is_available() else \"cpu\")\n",
        "\n",
        "batch_size = 256\n",
        "num_epoch = 100\n",
        "lr = 0.001\n",
        "len_obs = 50\n",
        "num_obs = 10000"
      ],
      "metadata": {
        "id": "A1jm27F8Zgj5"
      },
      "execution_count": 2,
      "outputs": []
    },
    {
      "cell_type": "markdown",
      "source": [
        "Для начала сгенерируем последовательности для обучения по правилам\n",
        "\n",
        "Для обучения подаем пару **x, y** длины **len_obs**"
      ],
      "metadata": {
        "id": "bIBjP1s6LcTW"
      }
    },
    {
      "cell_type": "code",
      "source": [
        "def digit_encoder(x):\n",
        "    y = torch.zeros_like(x)\n",
        "    y[0] = x[0]\n",
        "    for i in range(1, len(x)):\n",
        "        if x[i]+x[0] < 10:\n",
        "            y[i] = (x[i]+x[0])\n",
        "        else:\n",
        "            y[i] = (x[i]+x[0]-10)\n",
        "    return y"
      ],
      "metadata": {
        "id": "SqZ37QS8LZNo"
      },
      "execution_count": 3,
      "outputs": []
    },
    {
      "cell_type": "markdown",
      "source": [
        "Создаем датасет по сгенерированным последовательностям"
      ],
      "metadata": {
        "id": "z848hxx7r0UM"
      }
    },
    {
      "cell_type": "code",
      "source": [
        "def make_dataset(num_obs):\n",
        "    x_train = torch.stack([torch.randint(low=0, high=9, size=(len_obs,)) for i in range(num_obs)])\n",
        "    y_train = torch.stack([digit_encoder(i) for i in x_train])\n",
        "\n",
        "    x_test = torch.stack([torch.randint(low=0, high=9, size=(len_obs,)) for i in range(int(num_obs*0.2))])\n",
        "    y_test = torch.stack([digit_encoder(i) for i in x_test])\n",
        "\n",
        "    return x_train, y_train, x_test, y_test"
      ],
      "metadata": {
        "id": "c5PR70_ELiH8"
      },
      "execution_count": 4,
      "outputs": []
    },
    {
      "cell_type": "code",
      "source": [
        "x_train, y_train, x_test, y_test = make_dataset(num_obs)"
      ],
      "metadata": {
        "id": "NjlSHQDqXkYx"
      },
      "execution_count": 5,
      "outputs": []
    },
    {
      "cell_type": "code",
      "source": [
        "train_ds = DataLoader(TensorDataset(x_train, y_train),\n",
        "                      batch_size=batch_size,\n",
        "                      shuffle=True)\n",
        "test_ds = DataLoader(TensorDataset(x_test, y_test),\n",
        "                     batch_size=batch_size,\n",
        "                     shuffle=True)"
      ],
      "metadata": {
        "id": "ul-bMPFxXre7"
      },
      "execution_count": 6,
      "outputs": []
    },
    {
      "cell_type": "markdown",
      "source": [
        "Функция тренировки модели"
      ],
      "metadata": {
        "id": "BrGCOE8vr6b-"
      }
    },
    {
      "cell_type": "code",
      "source": [
        "def train(train_ds, test_ds, model, optimizer, loss, num_epoch, DEVICE):\n",
        "  for epoch in range(num_epoch):\n",
        "      train_loss, train_acc, iter_num = .0, .0, .0\n",
        "      start_epoch_time = time.time()\n",
        "      model.train()\n",
        "      for x, y in train_ds:\n",
        "          x = x.to(DEVICE)\n",
        "          y = y.view(1, -1).squeeze().to(DEVICE)\n",
        "          optimizer.zero_grad()\n",
        "          out = model.forward(x).view(-1, 10)\n",
        "          l = loss(out, y)\n",
        "          train_loss += l.item()\n",
        "          batch_acc = (out.argmax(dim=1) == y)\n",
        "          train_acc += batch_acc.sum().item() / batch_acc.shape[0]\n",
        "          l.backward()\n",
        "          optimizer.step()\n",
        "          iter_num += 1\n",
        "      if epoch%10 == 0:\n",
        "        print(f\"Epoch: {epoch+1}, loss: {train_loss:.4f}, acc: \"\n",
        "              f\"{train_acc / iter_num:.4f}\",\n",
        "              end=\" | \")\n",
        "      test_loss, test_acc, iter_num = .0, .0, .0\n",
        "      model.eval()\n",
        "      for x, y in test_ds:\n",
        "          x = x.to(DEVICE)\n",
        "          y = y.view(1, -1).squeeze().to(DEVICE)\n",
        "          out = model.forward(x).view(-1, 10)\n",
        "          l = loss(out, y).to(DEVICE)\n",
        "          test_loss += l.item()\n",
        "          batch_acc = (out.argmax(dim=1) == y)\n",
        "          test_acc += batch_acc.sum().item() / batch_acc.shape[0]\n",
        "          iter_num += 1\n",
        "      if epoch%10 == 0:\n",
        "        print(\n",
        "            f\"test loss: {test_loss:.4f}, test acc: {test_acc / iter_num:.4f} | \"\n",
        "            f\"{time.time() - start_epoch_time:.2f} sec.\"\n",
        "      )"
      ],
      "metadata": {
        "id": "zYXpsxEZpzMD"
      },
      "execution_count": 7,
      "outputs": []
    },
    {
      "cell_type": "markdown",
      "source": [
        "Простая RNN модель"
      ],
      "metadata": {
        "id": "xJ0CUocyr9zd"
      }
    },
    {
      "cell_type": "code",
      "source": [
        "class RNNModel(torch.nn.Module):\n",
        "\n",
        "    def __init__(self):\n",
        "        super().__init__()\n",
        "        self.embed = torch.nn.Embedding(10, 10)\n",
        "        self.rnn1 = torch.nn.RNN(10, 128, batch_first=True)\n",
        "        self.linear = torch.nn.Linear(128, 10)\n",
        "\n",
        "    def forward(self, sentence, state=None):\n",
        "        embed = self.embed(sentence)\n",
        "        o, h = self.rnn1(embed)\n",
        "        return self.linear(o)"
      ],
      "metadata": {
        "id": "26nhBMhCYNOp"
      },
      "execution_count": 8,
      "outputs": []
    },
    {
      "cell_type": "code",
      "source": [
        "model = RNNModel().to(DEVICE)\n",
        "loss = torch.nn.CrossEntropyLoss().to(DEVICE)\n",
        "optimizer = torch.optim.Adam(model.parameters(), lr=lr)"
      ],
      "metadata": {
        "id": "HXSY7j4iZddl"
      },
      "execution_count": 9,
      "outputs": []
    },
    {
      "cell_type": "code",
      "source": [
        "train(train_ds, test_ds, model, optimizer, loss, num_epoch, DEVICE)"
      ],
      "metadata": {
        "colab": {
          "base_uri": "https://localhost:8080/"
        },
        "id": "ejSgDBPsZn-S",
        "outputId": "6bfb7844-afaf-4764-d83c-e1dadb71acf8"
      },
      "execution_count": 10,
      "outputs": [
        {
          "output_type": "stream",
          "name": "stdout",
          "text": [
            "Epoch: 1, loss: 90.9431, acc: 0.1172 | test loss: 18.0378, test acc: 0.1153 | 1.36 sec.\n",
            "Epoch: 11, loss: 86.5629, acc: 0.1788 | test loss: 17.1725, test acc: 0.2038 | 0.20 sec.\n",
            "Epoch: 21, loss: 67.6984, acc: 0.2489 | test loss: 13.6187, test acc: 0.2468 | 0.20 sec.\n",
            "Epoch: 31, loss: 42.3193, acc: 0.4701 | test loss: 8.3550, test acc: 0.4734 | 0.19 sec.\n",
            "Epoch: 41, loss: 38.7775, acc: 0.4811 | test loss: 7.7497, test acc: 0.4872 | 0.20 sec.\n",
            "Epoch: 51, loss: 29.8151, acc: 0.5902 | test loss: 5.5860, test acc: 0.5996 | 0.20 sec.\n",
            "Epoch: 61, loss: 18.6927, acc: 0.6958 | test loss: 3.7925, test acc: 0.6928 | 0.20 sec.\n",
            "Epoch: 71, loss: 14.7642, acc: 0.7844 | test loss: 2.7309, test acc: 0.7909 | 0.20 sec.\n",
            "Epoch: 81, loss: 10.1838, acc: 0.8887 | test loss: 1.6379, test acc: 0.8953 | 0.20 sec.\n",
            "Epoch: 91, loss: 6.0375, acc: 0.9133 | test loss: 1.2455, test acc: 0.9095 | 0.21 sec.\n"
          ]
        }
      ]
    },
    {
      "cell_type": "code",
      "source": [
        "x = torch.randint(0, 9, (10,)).to(DEVICE)\n",
        "out = model.forward(x).argmax(dim=1).view(-1)\n",
        "y = digit_encoder(x).view(-1)\n",
        "\n",
        "print(f'Test seq {x}\\nPredict seq {out}\\nReal seq {y}\\nAcc {(out == y).sum()/len(out)}')"
      ],
      "metadata": {
        "colab": {
          "base_uri": "https://localhost:8080/"
        },
        "id": "NyQw6UALBA_z",
        "outputId": "638f46e7-f700-4db8-aae1-66e56f96c691"
      },
      "execution_count": 11,
      "outputs": [
        {
          "output_type": "stream",
          "name": "stdout",
          "text": [
            "Test seq tensor([4, 5, 5, 0, 3, 3, 4, 4, 0, 1], device='cuda:0')\n",
            "Predict seq tensor([4, 9, 9, 4, 7, 7, 8, 8, 4, 5], device='cuda:0')\n",
            "Real seq tensor([4, 9, 9, 4, 7, 7, 8, 8, 4, 5], device='cuda:0')\n",
            "Acc 1.0\n"
          ]
        }
      ]
    },
    {
      "cell_type": "markdown",
      "source": [
        "LSTM модель, просто для разнообразия двуслойная"
      ],
      "metadata": {
        "id": "Vgqm_osFsrhE"
      }
    },
    {
      "cell_type": "code",
      "source": [
        "class LSTMModel(torch.nn.Module):\n",
        "\n",
        "    def __init__(self):\n",
        "        super().__init__()\n",
        "        self.embed = torch.nn.Embedding(10, 10)\n",
        "        self.lstm1 = torch.nn.LSTM(10, 128, batch_first=True)\n",
        "        self.lstm2 = torch.nn.LSTM(128, 128, batch_first=True)\n",
        "        self.linear = torch.nn.Linear(128, 10)\n",
        "\n",
        "    def forward(self, sentence, state=None):\n",
        "        embed = self.embed(sentence)\n",
        "        o, h = self.lstm1(embed)\n",
        "        o, h = self.lstm2(o, h)\n",
        "        return self.linear(o)"
      ],
      "metadata": {
        "id": "2aeECCVlNtot"
      },
      "execution_count": 12,
      "outputs": []
    },
    {
      "cell_type": "code",
      "source": [
        "model_LSTM = LSTMModel().to(DEVICE)\n",
        "optimizer_LSTM = torch.optim.Adam(model_LSTM.parameters(), lr=lr)"
      ],
      "metadata": {
        "id": "eISkUSLzRggT"
      },
      "execution_count": 13,
      "outputs": []
    },
    {
      "cell_type": "code",
      "source": [
        "train(train_ds, test_ds, model_LSTM, optimizer_LSTM, loss, num_epoch, DEVICE)"
      ],
      "metadata": {
        "colab": {
          "base_uri": "https://localhost:8080/"
        },
        "id": "Je2lRMcFRdaq",
        "outputId": "83da45df-36ad-417d-9f86-2d653a5697b5"
      },
      "execution_count": 14,
      "outputs": [
        {
          "output_type": "stream",
          "name": "stdout",
          "text": [
            "Epoch: 1, loss: 91.8264, acc: 0.1105 | test loss: 18.2614, test acc: 0.1157 | 0.54 sec.\n",
            "Epoch: 11, loss: 27.9808, acc: 0.7065 | test loss: 4.7486, test acc: 0.7518 | 0.59 sec.\n",
            "Epoch: 21, loss: 0.5986, acc: 1.0000 | test loss: 0.1106, test acc: 1.0000 | 0.55 sec.\n",
            "Epoch: 31, loss: 0.1813, acc: 1.0000 | test loss: 0.0350, test acc: 1.0000 | 0.55 sec.\n",
            "Epoch: 41, loss: 0.0908, acc: 1.0000 | test loss: 0.0178, test acc: 1.0000 | 0.55 sec.\n",
            "Epoch: 51, loss: 0.0543, acc: 1.0000 | test loss: 0.0107, test acc: 1.0000 | 0.56 sec.\n",
            "Epoch: 61, loss: 0.0355, acc: 1.0000 | test loss: 0.0071, test acc: 1.0000 | 0.56 sec.\n",
            "Epoch: 71, loss: 0.0246, acc: 1.0000 | test loss: 0.0049, test acc: 1.0000 | 0.56 sec.\n",
            "Epoch: 81, loss: 0.0177, acc: 1.0000 | test loss: 0.0035, test acc: 1.0000 | 0.57 sec.\n",
            "Epoch: 91, loss: 0.0131, acc: 1.0000 | test loss: 0.0026, test acc: 1.0000 | 0.57 sec.\n"
          ]
        }
      ]
    },
    {
      "cell_type": "code",
      "source": [
        "x = torch.randint(0, 9, (10,)).to(DEVICE)\n",
        "out = model_LSTM.forward(x).argmax(dim=1).view(-1)\n",
        "y = digit_encoder(x).view(-1)\n",
        "\n",
        "print(f'Test seq {x}\\nPredict seq {out}\\nReal seq {y}\\nAcc {(out == y).sum()/len(out)}')"
      ],
      "metadata": {
        "colab": {
          "base_uri": "https://localhost:8080/"
        },
        "id": "pnLmTQODel4a",
        "outputId": "a3121a07-abb3-4a3d-b9c1-a46868b70192"
      },
      "execution_count": 15,
      "outputs": [
        {
          "output_type": "stream",
          "name": "stdout",
          "text": [
            "Test seq tensor([1, 1, 0, 7, 4, 8, 6, 7, 6, 5], device='cuda:0')\n",
            "Predict seq tensor([1, 2, 1, 8, 5, 9, 7, 8, 7, 6], device='cuda:0')\n",
            "Real seq tensor([1, 2, 1, 8, 5, 9, 7, 8, 7, 6], device='cuda:0')\n",
            "Acc 1.0\n"
          ]
        }
      ]
    },
    {
      "cell_type": "markdown",
      "source": [
        "GRU модель"
      ],
      "metadata": {
        "id": "U6r7oGrbsyWi"
      }
    },
    {
      "cell_type": "code",
      "source": [
        "class GRUModel(torch.nn.Module):\n",
        "\n",
        "    def __init__(self):\n",
        "        super().__init__()\n",
        "        self.embed = torch.nn.Embedding(10, 10)\n",
        "        self.gru = torch.nn.GRU(10, 128, batch_first=True)\n",
        "        self.linear = torch.nn.Linear(128, 10)\n",
        "\n",
        "    def forward(self, sentence, state=None):\n",
        "        embed = self.embed(sentence)\n",
        "        o, h = self.gru(embed)\n",
        "        return self.linear(o)"
      ],
      "metadata": {
        "id": "HG3fECK7RysC"
      },
      "execution_count": 16,
      "outputs": []
    },
    {
      "cell_type": "code",
      "source": [
        "model_GRU = GRUModel().to(DEVICE)\n",
        "optimizer_GRU = torch.optim.Adam(model_GRU.parameters(), lr=lr)"
      ],
      "metadata": {
        "id": "ItgrKx26dYON"
      },
      "execution_count": 17,
      "outputs": []
    },
    {
      "cell_type": "code",
      "source": [
        "train(train_ds, test_ds, model_GRU, optimizer_GRU, loss, num_epoch, DEVICE)"
      ],
      "metadata": {
        "colab": {
          "base_uri": "https://localhost:8080/"
        },
        "id": "_gf7QzLsdTtG",
        "outputId": "e997d489-23c9-4b5e-c138-ebb152f6a584"
      },
      "execution_count": 18,
      "outputs": [
        {
          "output_type": "stream",
          "name": "stdout",
          "text": [
            "Epoch: 1, loss: 91.2936, acc: 0.1145 | test loss: 18.1154, test acc: 0.1180 | 0.27 sec.\n",
            "Epoch: 11, loss: 49.8879, acc: 0.6558 | test loss: 6.8605, test acc: 0.8507 | 0.27 sec.\n",
            "Epoch: 21, loss: 0.7635, acc: 1.0000 | test loss: 0.1389, test acc: 1.0000 | 0.32 sec.\n",
            "Epoch: 31, loss: 0.2454, acc: 1.0000 | test loss: 0.0468, test acc: 1.0000 | 0.27 sec.\n",
            "Epoch: 41, loss: 0.1237, acc: 1.0000 | test loss: 0.0239, test acc: 1.0000 | 0.26 sec.\n",
            "Epoch: 51, loss: 0.0734, acc: 1.0000 | test loss: 0.0142, test acc: 1.0000 | 0.27 sec.\n",
            "Epoch: 61, loss: 0.0479, acc: 1.0000 | test loss: 0.0093, test acc: 1.0000 | 0.26 sec.\n",
            "Epoch: 71, loss: 0.0330, acc: 1.0000 | test loss: 0.0065, test acc: 1.0000 | 0.27 sec.\n",
            "Epoch: 81, loss: 0.0238, acc: 1.0000 | test loss: 0.0046, test acc: 1.0000 | 0.27 sec.\n",
            "Epoch: 91, loss: 0.0175, acc: 1.0000 | test loss: 0.0034, test acc: 1.0000 | 0.27 sec.\n"
          ]
        }
      ]
    },
    {
      "cell_type": "code",
      "source": [
        "x = torch.randint(0, 9, (10,)).to(DEVICE)\n",
        "out = model_GRU.forward(x).argmax(dim=1).view(-1)\n",
        "y = digit_encoder(x).view(-1)\n",
        "\n",
        "print(f'Test seq {x}\\nPredict seq {out}\\nReal seq {y}\\nAcc {(out == y).sum()/len(out)}')"
      ],
      "metadata": {
        "colab": {
          "base_uri": "https://localhost:8080/"
        },
        "id": "cEI2DPAZerjp",
        "outputId": "a17534fe-4376-4f0c-ccf4-af3c03ecc713"
      },
      "execution_count": 19,
      "outputs": [
        {
          "output_type": "stream",
          "name": "stdout",
          "text": [
            "Test seq tensor([7, 1, 3, 8, 7, 3, 8, 8, 5, 7], device='cuda:0')\n",
            "Predict seq tensor([7, 8, 0, 5, 4, 0, 5, 5, 2, 4], device='cuda:0')\n",
            "Real seq tensor([7, 8, 0, 5, 4, 0, 5, 5, 2, 4], device='cuda:0')\n",
            "Acc 1.0\n"
          ]
        }
      ]
    }
  ]
}